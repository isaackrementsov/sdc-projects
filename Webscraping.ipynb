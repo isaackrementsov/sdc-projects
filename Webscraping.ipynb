{
 "cells": [
  {
   "cell_type": "markdown",
   "id": "207a8b09",
   "metadata": {},
   "source": [
    "# Onboarding Task - Webscraping Police Data\n",
    "For this task, you'll need to collect and aggregate the information that gets posted daily to a police bulletin. There's no way to download this data in a structured format and it would be impractical to manually copy it from the page every day, so instead you'll be building a custom webscraper to do all of the work for you.\n",
    "### What is a webscraper?\n",
    "A webscraper is a program that automatically collects (or \"scrapes\") data from a website. \n",
    "### How do I build one?\n",
    "Python lets us build webscrapers using the Selenium library, which provides a live view of what's going on in the browser during as the process runs. Pandas will also be useful for organizing the data we end up collecting. You can import these tools as follows:"
   ]
  },
  {
   "cell_type": "code",
   "execution_count": null,
   "id": "88a1b506",
   "metadata": {},
   "outputs": [],
   "source": [
    "from selenium import webdriver\n",
    "from selenium.webdriver.common.by import By\n",
    "import pandas as pd"
   ]
  },
  {
   "cell_type": "markdown",
   "id": "e1c14fa5",
   "metadata": {},
   "source": [
    "To browse the web, Selenium relies on the Gecko webdriver, which you should download [here](https://github.com/mozilla/geckodriver/releases). Once it's installed, copy the path to `geckodriver.exe` and paste it below:"
   ]
  },
  {
   "cell_type": "code",
   "execution_count": null,
   "id": "2f4cdfeb",
   "metadata": {},
   "outputs": [],
   "source": [
    "GECKO_PATH = 'your-path-here'"
   ]
  },
  {
   "cell_type": "markdown",
   "id": "a8f54f6c",
   "metadata": {},
   "source": [
    "Now, you can create an instance of Firefox for Selenium to use:"
   ]
  },
  {
   "cell_type": "code",
   "execution_count": null,
   "id": "98d02ae9",
   "metadata": {},
   "outputs": [],
   "source": [
    "driver = webdriver.Firefox(executable_path=GECKO_PATH)"
   ]
  },
  {
   "cell_type": "markdown",
   "id": "cbe11578",
   "metadata": {},
   "source": [
    "Tell the driver to navigate to your police bulletin by copying the link into the code below:"
   ]
  },
  {
   "cell_type": "code",
   "execution_count": null,
   "id": "b8425ff7",
   "metadata": {},
   "outputs": [],
   "source": [
    "driver.get('your-bulletin-url')"
   ]
  },
  {
   "cell_type": "markdown",
   "id": "19bc4bc4",
   "metadata": {},
   "source": [
    "Once you run the cell above, Firefox window should open and automatically go to the url specified. All of the data you now see is accessible to Selenium; you just have to tell it what to look for!"
   ]
  },
  {
   "cell_type": "markdown",
   "id": "50017ccf",
   "metadata": {},
   "source": [
    "### How do I tell Selenium to select specific parts of a webpage?\n"
   ]
  },
  {
   "cell_type": "markdown",
   "id": "f206c05e",
   "metadata": {},
   "source": [
    "The underlying structure of a webpage is written in HTML code, which can be seen in the browser's inspect element window (open this either by pressing `ctrl+shift+i` or right clicking and selecting `Inspect`)."
   ]
  },
  {
   "cell_type": "markdown",
   "id": "e2eb4da0",
   "metadata": {},
   "source": [
    "HTML elements generally look like this:\n",
    "1. \n",
    "```html\n",
    "<tag class=\"...\" id=\"...\" name=\"...\">...</tag>\n",
    "```\n",
    "or this:\n",
    "2.\n",
    "```html\n",
    "<tag class=\"...\" id=\"...\" name=\"...\"/>\n",
    "```\n",
    "*Note: Not all elements have `id`s, `name`s, or `class`es, and some have other attributes that you can ignore for now.*\n",
    "\n",
    "A tag identifies the type of element being used. Classes are labels that assign an element to one or more groups of elements with the same class (an element can have multiple class names separated by spaces). An id is a unique identifier for a particular element and will not be shared with any others. Names are typically used for labelling the input fields of a form.\n",
    "\n",
    "Many elements have additional elements nested within them, which are known as children. These will show up in the `>...<` area if an element is formatted as in (1)."
   ]
  },
  {
   "cell_type": "markdown",
   "id": "f570dedf",
   "metadata": {},
   "source": [
    "Selenium lets us select elements by these attributes as follows:"
   ]
  },
  {
   "cell_type": "code",
   "execution_count": null,
   "id": "d704997d",
   "metadata": {},
   "outputs": [],
   "source": [
    "# Select by tag\n",
    "elem1 = webdriver.find_element(By.TAG, 'some-tag')\n",
    "\n",
    "# Select by a single class\n",
    "elem2 = webdriver.find_element(By.CLASS, 'some-class')\n",
    "# Select by multiple classes\n",
    "elem3 = webdriver.find_element(By.CLASS, 'some-class1 some-class2')\n",
    "\n",
    "# Select by id\n",
    "elem4 = webdriver.find_element(By.ID, 'some-id')\n",
    "\n",
    "# Select by name\n",
    "elem5 = webdriver.find_element(By.NAME, 'some-name')"
   ]
  },
  {
   "cell_type": "markdown",
   "id": "c08aca95",
   "metadata": {},
   "source": [
    "*Note: `find_element` returns the first matched element by default. To get all matches, use `find_elements` instead.*"
   ]
  },
  {
   "cell_type": "markdown",
   "id": "9609d4a7",
   "metadata": {},
   "source": [
    "`find_element(s)` can also be called from any returned element to search that element's children."
   ]
  },
  {
   "cell_type": "markdown",
   "id": "16bd18f9",
   "metadata": {},
   "source": [
    "To \"scrape\" a piece of data, you'll need to find the lowest-level element that contains it (should look like `<tag ...>raw-data</tag>`). Then, use `find_element` along with either its `name`, `id`, `class`, `tag`, or containing elements to select this element (be careful about other elements it might share attributes with!). This data will be contained in its `.text` property."
   ]
  },
  {
   "cell_type": "code",
   "execution_count": null,
   "id": "01c08f1d",
   "metadata": {},
   "outputs": [],
   "source": [
    "# Select the element here\n",
    "element = ...\n",
    "\n",
    "# Get the data it contains\n",
    "my_data = element.text"
   ]
  },
  {
   "cell_type": "markdown",
   "id": "5e44c76e",
   "metadata": {},
   "source": [
    "### Other ways to interact with a page\n",
    "Sometimes, webscraping isn't as simple as going to a webpage and directly pulling data. You may need to click buttons, enter input data, or submit forms. Here are some examples demonstrating how to do so:"
   ]
  },
  {
   "cell_type": "code",
   "execution_count": null,
   "id": "aa83f398",
   "metadata": {},
   "outputs": [],
   "source": [
    "# Click a button element\n",
    "button_element = webdriver.find_element(By.TAG, 'button')\n",
    "button_element.click()\n",
    "\n",
    "# Set input text\n",
    "input_element = webdriver.find_element(By.TAG, 'input')\n",
    "input_element.send_keys('input-data')\n",
    "\n",
    "# Submit a form\n",
    "form_element = webdriver.find_element(By.ID, 'login-form')\n",
    "form_element.submit()"
   ]
  },
  {
   "cell_type": "markdown",
   "id": "9eb04aba",
   "metadata": {},
   "source": [
    "### Organizing scraped data"
   ]
  },
  {
   "cell_type": "markdown",
   "id": "2d9c04fe",
   "metadata": {},
   "source": [
    "Once you figure out how to pull your target data from the webpage, you'll want to store it somehow. This is where pandas comes in. First, edit the `DataFrame` constructor below to create a table with the columns necessary to hold your data:"
   ]
  },
  {
   "cell_type": "code",
   "execution_count": null,
   "id": "71a8d56e",
   "metadata": {},
   "outputs": [],
   "source": [
    "table = pd.DataFrame({\n",
    "    'my-col-1': [],\n",
    "    'my-col-2': [],\n",
    "    ...\n",
    "})"
   ]
  },
  {
   "cell_type": "markdown",
   "id": "8ac9b753",
   "metadata": {},
   "source": [
    "Now that you have a structured table, data points can be stored as rows by passing a dictionaries with the names and values of each column to the `append` function."
   ]
  },
  {
   "cell_type": "code",
   "execution_count": null,
   "id": "419a9d28",
   "metadata": {},
   "outputs": [],
   "source": [
    "table.append({'my-col-1': 'my-col-1-value', 'my-col-2': 'my-col-2-value', ...})"
   ]
  },
  {
   "cell_type": "markdown",
   "id": "ab46dd1e",
   "metadata": {},
   "source": [
    "Since this table is stored in program memory, it's also useful to save it from time to time, which can be done with `to_csv`:"
   ]
  },
  {
   "cell_type": "code",
   "execution_count": null,
   "id": "ea689f4e",
   "metadata": {},
   "outputs": [],
   "source": [
    "table.to_csv('my-folder/my-table.csv')"
   ]
  },
  {
   "cell_type": "markdown",
   "id": "d6488dec",
   "metadata": {},
   "source": [
    "The saved data can be loaded later on by passing the path it was saved at to `from_csv`:"
   ]
  },
  {
   "cell_type": "code",
   "execution_count": null,
   "id": "ad519398",
   "metadata": {},
   "outputs": [],
   "source": [
    "table = pd.from_csv('my-folder/my-table.csv')"
   ]
  }
 ],
 "metadata": {
  "kernelspec": {
   "display_name": "Python 3",
   "language": "python",
   "name": "python3"
  },
  "language_info": {
   "codemirror_mode": {
    "name": "ipython",
    "version": 3
   },
   "file_extension": ".py",
   "mimetype": "text/x-python",
   "name": "python",
   "nbconvert_exporter": "python",
   "pygments_lexer": "ipython3",
   "version": "3.8.8"
  }
 },
 "nbformat": 4,
 "nbformat_minor": 5
}
